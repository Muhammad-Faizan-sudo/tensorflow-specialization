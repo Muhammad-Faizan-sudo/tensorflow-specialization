{
 "cells": [
  {
   "cell_type": "markdown",
   "id": "a98a2354",
   "metadata": {},
   "source": [
    "### import lib"
   ]
  },
  {
   "cell_type": "code",
   "execution_count": 3,
   "id": "64b476ec",
   "metadata": {},
   "outputs": [],
   "source": [
    "import tensorflow as tf\n",
    "from tensorflow import keras\n",
    "\n",
    "import numpy as np\n",
    "import ### import libmatplotlib.pyplot as plt"
   ]
  },
  {
   "cell_type": "markdown",
   "id": "e1db860c",
   "metadata": {},
   "source": [
    "### load dataset"
   ]
  },
  {
   "cell_type": "code",
   "execution_count": 5,
   "id": "0f797bcc",
   "metadata": {},
   "outputs": [
    {
     "name": "stdout",
     "output_type": "stream",
     "text": [
      "Downloading data from https://storage.googleapis.com/tensorflow/tf-keras-datasets/mnist.npz\n",
      "11493376/11490434 [==============================] - 16s 1us/step\n"
     ]
    }
   ],
   "source": [
    "mnist = tf.keras.datasets.mnist\n",
    "(x_train, y_train), (x_test, y_test) = mnist.load_data()"
   ]
  },
  {
   "cell_type": "markdown",
   "id": "cc554e08",
   "metadata": {},
   "source": [
    "### normalization"
   ]
  },
  {
   "cell_type": "code",
   "execution_count": 6,
   "id": "2f4cacdd",
   "metadata": {},
   "outputs": [
    {
     "name": "stderr",
     "output_type": "stream",
     "text": [
      "2022-09-04 15:40:18.104309: I tensorflow/compiler/jit/xla_cpu_device.cc:41] Not creating XLA devices, tf_xla_enable_xla_devices not set\n",
      "2022-09-04 15:40:18.105907: I tensorflow/stream_executor/platform/default/dso_loader.cc:49] Successfully opened dynamic library libcuda.so.1\n",
      "2022-09-04 15:40:18.433062: E tensorflow/stream_executor/cuda/cuda_driver.cc:328] failed call to cuInit: CUDA_ERROR_NO_DEVICE: no CUDA-capable device is detected\n",
      "2022-09-04 15:40:18.433102: I tensorflow/stream_executor/cuda/cuda_diagnostics.cc:156] kernel driver does not appear to be running on this host (mfaizan-HP-ProBook-640-G2): /proc/driver/nvidia/version does not exist\n",
      "2022-09-04 15:40:18.433613: I tensorflow/core/platform/cpu_feature_guard.cc:142] This TensorFlow binary is optimized with oneAPI Deep Neural Network Library (oneDNN) to use the following CPU instructions in performance-critical operations:  AVX2 FMA\n",
      "To enable them in other operations, rebuild TensorFlow with the appropriate compiler flags.\n",
      "2022-09-04 15:40:18.433925: I tensorflow/compiler/jit/xla_gpu_device.cc:99] Not creating XLA devices, tf_xla_enable_xla_devices not set\n",
      "2022-09-04 15:40:18.797805: I tensorflow/compiler/mlir/mlir_graph_optimization_pass.cc:116] None of the MLIR optimization passes are enabled (registered 2)\n",
      "2022-09-04 15:40:18.817934: I tensorflow/core/platform/profile_utils/cpu_utils.cc:112] CPU Frequency: 2499950000 Hz\n"
     ]
    },
    {
     "name": "stdout",
     "output_type": "stream",
     "text": [
      "Epoch 1/5\n",
      "1875/1875 [==============================] - 7s 3ms/step - loss: 0.4040 - accuracy: 0.8892 - val_loss: 0.1087 - val_accuracy: 0.9678\n",
      "Epoch 2/5\n",
      "1875/1875 [==============================] - 5s 3ms/step - loss: 0.0903 - accuracy: 0.9740 - val_loss: 0.1090 - val_accuracy: 0.9662\n",
      "Epoch 3/5\n",
      "1875/1875 [==============================] - 6s 3ms/step - loss: 0.0592 - accuracy: 0.9816 - val_loss: 0.0796 - val_accuracy: 0.9750\n",
      "Epoch 4/5\n",
      "1875/1875 [==============================] - 6s 3ms/step - loss: 0.0415 - accuracy: 0.9872 - val_loss: 0.0797 - val_accuracy: 0.9766\n",
      "Epoch 5/5\n",
      "1875/1875 [==============================] - 5s 3ms/step - loss: 0.0335 - accuracy: 0.9892 - val_loss: 0.0801 - val_accuracy: 0.9768\n",
      "313/313 [==============================] - 1s 2ms/step - loss: 0.0801 - accuracy: 0.9768\n"
     ]
    },
    {
     "data": {
      "text/plain": [
       "[0.0801263153553009, 0.9768000245094299]"
      ]
     },
     "execution_count": 6,
     "metadata": {},
     "output_type": "execute_result"
    }
   ],
   "source": [
    "norm_x_train, norm_x_test = x_train/255.0, x_test/255.0"
   ]
  },
  {
   "cell_type": "markdown",
   "id": "613359c7",
   "metadata": {},
   "source": [
    "### Model architecture, compilation and fitting"
   ]
  },
  {
   "cell_type": "code",
   "execution_count": null,
   "id": "98c98228",
   "metadata": {},
   "outputs": [],
   "source": [
    "model = tf.keras.models.Sequential([\n",
    "    tf.keras.layers.Flatten(input_shape=(28,28)),\n",
    "    tf.keras.layers.Dense(128),\n",
    "    tf.keras.layers.Lambda(lambda x: tf.abs(x)), # it will convert all negative features into positive        \n",
    "    tf.keras.layers.Dense(10, activation='softmax')\n",
    "])\n",
    "model.compile(optimizer='adam', \n",
    "              loss='sparse_categorical_crossentropy',\n",
    "              metrics=['accuracy'])\n",
    "model.fit(norm_x_train, y_train, \n",
    "          epochs=5,\n",
    "          validation_data=(norm_x_test, y_test))\n",
    "model.evaluate(norm_x_test, y_test)"
   ]
  },
  {
   "cell_type": "markdown",
   "id": "e8c76f67",
   "metadata": {},
   "source": [
    "### Trained model using my own activation function (relu function)"
   ]
  },
  {
   "cell_type": "code",
   "execution_count": 7,
   "id": "b3197e68",
   "metadata": {},
   "outputs": [
    {
     "name": "stdout",
     "output_type": "stream",
     "text": [
      "Epoch 1/5\n",
      "1875/1875 [==============================] - 7s 4ms/step - loss: 0.4360 - accuracy: 0.8772 - val_loss: 0.1343 - val_accuracy: 0.9592\n",
      "Epoch 2/5\n",
      "1875/1875 [==============================] - 7s 4ms/step - loss: 0.1179 - accuracy: 0.9656 - val_loss: 0.0916 - val_accuracy: 0.9722\n",
      "Epoch 3/5\n",
      "1875/1875 [==============================] - 6s 3ms/step - loss: 0.0758 - accuracy: 0.9780 - val_loss: 0.0890 - val_accuracy: 0.9727\n",
      "Epoch 4/5\n",
      "1875/1875 [==============================] - 6s 3ms/step - loss: 0.0530 - accuracy: 0.9838 - val_loss: 0.0811 - val_accuracy: 0.9752\n",
      "Epoch 5/5\n",
      "1875/1875 [==============================] - 5s 3ms/step - loss: 0.0401 - accuracy: 0.9874 - val_loss: 0.0710 - val_accuracy: 0.9783\n",
      "313/313 [==============================] - 1s 2ms/step - loss: 0.0710 - accuracy: 0.9783\n"
     ]
    },
    {
     "data": {
      "text/plain": [
       "[0.07100044935941696, 0.9782999753952026]"
      ]
     },
     "execution_count": 7,
     "metadata": {},
     "output_type": "execute_result"
    }
   ],
   "source": [
    "from tensorflow.keras import backend as K\n",
    "norm_x_train, norm_x_test = x_train/255.0, x_test/255.0\n",
    "\n",
    "def my_relu(x):\n",
    "    return K.maximum(-0.1, x) # return x if x>0 else 0,0\n",
    "model = tf.keras.models.Sequential([\n",
    "    tf.keras.layers.Flatten(input_shape=(28,28)),\n",
    "    tf.keras.layers.Dense(128),\n",
    "    tf.keras.layers.Lambda(my_relu), # build my own relu activation function\n",
    "    tf.keras.layers.Dense(10, activation='softmax')\n",
    "])\n",
    "model.compile(optimizer='adam', \n",
    "              loss='sparse_categorical_crossentropy',\n",
    "              metrics=['accuracy'])\n",
    "model.fit(norm_x_train, y_train, \n",
    "          epochs=5,\n",
    "          validation_data=(norm_x_test, y_test))\n",
    "model.evaluate(norm_x_test, y_test)"
   ]
  }
 ],
 "metadata": {
  "kernelspec": {
   "display_name": "Python 3 (ipykernel)",
   "language": "python",
   "name": "python3"
  },
  "language_info": {
   "codemirror_mode": {
    "name": "ipython",
    "version": 3
   },
   "file_extension": ".py",
   "mimetype": "text/x-python",
   "name": "python",
   "nbconvert_exporter": "python",
   "pygments_lexer": "ipython3",
   "version": "3.8.10"
  }
 },
 "nbformat": 4,
 "nbformat_minor": 5
}
